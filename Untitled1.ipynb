{
 "cells": [
  {
   "cell_type": "code",
   "execution_count": null,
   "id": "f0b40263",
   "metadata": {},
   "outputs": [],
   "source": [
    "import pandas as pd\n",
    "import os"
   ]
  },
  {
   "cell_type": "code",
   "execution_count": null,
   "id": "e4711a71",
   "metadata": {},
   "outputs": [],
   "source": [
    "drive = os.getcwd()\n",
    "print(drive)"
   ]
  },
  {
   "cell_type": "code",
   "execution_count": null,
   "id": "e76dacaa",
   "metadata": {},
   "outputs": [],
   "source": [
    "df = pd.read_csv(drive+'\\Downloads\\pokemon_data.csv')\n",
    "# df = pd.read_excel(drive+'\\Downloads\\pokemon_data.xlsx')\n",
    "# df = pd.read_csv(drive+'\\Downloads\\pokemon_data.txt',delimiter='\\t')\n",
    "print(df.head(3))\n",
    "# print(df.tail(3))"
   ]
  },
  {
   "cell_type": "code",
   "execution_count": null,
   "id": "e5ea8b85",
   "metadata": {},
   "outputs": [],
   "source": [
    "# Read Headers\n",
    "# print(df.columns)\n",
    "#Read Each Column\n",
    "# print(df.Name)\n",
    "# print(df['Name'])\n",
    "# print(df[['Name','Type 1','Type 2', 'HP']])\n",
    "\n",
    "# Read Each Row\n",
    "# print(df.head(5))\n",
    "# print(df.iloc[0:4])\n",
    "\n",
    "# for index,row in df.iterrows():\n",
    "#     print(index, row['Name'])\n",
    "\n",
    "df.loc[df['Type 1'] == \"Grass\"]\n",
    "\n",
    "# Read a specific location(R,C)\n",
    "# print(df.iloc[2,1])"
   ]
  },
  {
   "cell_type": "code",
   "execution_count": null,
   "id": "50d254dd",
   "metadata": {},
   "outputs": [],
   "source": [
    "df.describe()"
   ]
  },
  {
   "cell_type": "code",
   "execution_count": null,
   "id": "9284f2d3",
   "metadata": {},
   "outputs": [],
   "source": [
    "df.sort_values('Name',ascending=False)"
   ]
  },
  {
   "cell_type": "code",
   "execution_count": null,
   "id": "447fe86d",
   "metadata": {},
   "outputs": [],
   "source": [
    "df.sort_values(['Type 1', 'HP'], ascending=[1,0])"
   ]
  },
  {
   "cell_type": "code",
   "execution_count": null,
   "id": "9e5822db",
   "metadata": {},
   "outputs": [],
   "source": [
    "# df['total'] = df['HP']+df['Attack']+df['Defense']+df['Sp. Atk']+df['Sp. Def']+df['Speed']\n",
    "# df = df.drop(columns=['total'])\n",
    "df['Total']= df.iloc[:, 4:10].sum(axis=1)\n",
    "\n",
    "cols = list(df.columns.values)\n",
    "df = df[cols[0:4]+[cols[-1]]+cols[4:12]]\n",
    "df.head(5)"
   ]
  },
  {
   "cell_type": "code",
   "execution_count": null,
   "id": "985c7fe1",
   "metadata": {},
   "outputs": [],
   "source": [
    "# df.to_csv(drive+'\\Downloads\\modified.csv',index=False)\n",
    "\n",
    "# df.to_excel(drive+'\\Downloads\\modified.xlsx',index=False)\n",
    "\n",
    "df.to_csv(drive+'\\Downloads\\modified.txt',index=False,sep=\"\\t\")"
   ]
  },
  {
   "cell_type": "code",
   "execution_count": null,
   "id": "666ca0ae",
   "metadata": {},
   "outputs": [],
   "source": [
    "new_df = df.loc[(df['Type 1']=='Grass') & (df['Type 2']=='Poison') & (df['HP'] > 70)]\n",
    "# print(new_df)\n",
    "# new_df.to_csv(drive+'\\Downloads\\\\filtered.csv',index=False)\n",
    "new_df = new_df.reset_index(drop=True)\n",
    "new_df"
   ]
  },
  {
   "cell_type": "code",
   "execution_count": null,
   "id": "8243723a",
   "metadata": {},
   "outputs": [],
   "source": [
    "# df.loc[~df['Name'].str.contains('Mega')]\n",
    "import re\n",
    "# df.loc[df['Type 1'].str.contains('fire|grass', flags=re.I, regex=True)]\n",
    "df.loc[df['Name'].str.contains('^pi[a-z]', flags=re.I, regex=True)]"
   ]
  },
  {
   "cell_type": "code",
   "execution_count": null,
   "id": "1373fd0a",
   "metadata": {},
   "outputs": [],
   "source": [
    "df.loc[df['Type 1']=='Flamer','Legendary']= True\n",
    "df"
   ]
  },
  {
   "cell_type": "code",
   "execution_count": null,
   "id": "de722031",
   "metadata": {},
   "outputs": [],
   "source": [
    "df = pd.read_csv(drive+'\\Downloads\\modified.csv')"
   ]
  },
  {
   "cell_type": "code",
   "execution_count": null,
   "id": "63ce9766",
   "metadata": {},
   "outputs": [],
   "source": [
    "df.loc[df['Total'] > 500, ['Generation','Lengendary']] = 'TEST VALUE'\n",
    "df"
   ]
  },
  {
   "cell_type": "code",
   "execution_count": null,
   "id": "72ed0caf",
   "metadata": {},
   "outputs": [],
   "source": [
    "# df.loc[df['Total']> 500, ['Generation','Legendary']] = ['Test 1', 'Test 2']\n",
    "# df\n",
    "\n"
   ]
  },
  {
   "cell_type": "code",
   "execution_count": null,
   "id": "cc989ef2",
   "metadata": {},
   "outputs": [],
   "source": [
    "df = pd.read_csv(drive+\"\\Downloads\\modified.csv\")\n",
    "\n",
    "# df.groupby(['Type 1']).mean().sort_values('Attack',ascending=False)\n",
    "# df.groupby(['Type 1']).sum()\n",
    "df['count']=1\n",
    "df.groupby(['Type 1','Type 2']).count()['count']\n"
   ]
  },
  {
   "cell_type": "code",
   "execution_count": null,
   "id": "2ad1932d",
   "metadata": {},
   "outputs": [],
   "source": [
    "for df in pd.read_csv(drive+\"\\Downloads\\modified.csv\",chunksize=5):\n",
    "    print(\"CHUNK OFF\")\n",
    "    print(df)"
   ]
  },
  {
   "cell_type": "code",
   "execution_count": null,
   "id": "fba9610a",
   "metadata": {},
   "outputs": [],
   "source": [
    "new_df = pd.DataFrame(columns=df.columns)\n",
    "for df in pd.read_csv(drive+\"\\Downloads\\modified.csv\", chunksize=5):\n",
    "    results = df.groupby(['Type 1']).count()\n",
    "    \n",
    "    new_df = pd.concat([new_df,results])"
   ]
  },
  {
   "cell_type": "code",
   "execution_count": null,
   "id": "18ac9352",
   "metadata": {},
   "outputs": [],
   "source": []
  }
 ],
 "metadata": {
  "kernelspec": {
   "display_name": "Python 3 (ipykernel)",
   "language": "python",
   "name": "python3"
  },
  "language_info": {
   "codemirror_mode": {
    "name": "ipython",
    "version": 3
   },
   "file_extension": ".py",
   "mimetype": "text/x-python",
   "name": "python",
   "nbconvert_exporter": "python",
   "pygments_lexer": "ipython3",
   "version": "3.9.12"
  }
 },
 "nbformat": 4,
 "nbformat_minor": 5
}
